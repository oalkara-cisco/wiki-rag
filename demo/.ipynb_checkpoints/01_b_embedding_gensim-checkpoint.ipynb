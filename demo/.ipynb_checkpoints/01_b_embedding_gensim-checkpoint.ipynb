{
 "cells": [
  {
   "cell_type": "code",
   "execution_count": null,
   "metadata": {
    "colab": {
     "base_uri": "https://localhost:8080/"
    },
    "id": "k3vozbreDTUn",
    "outputId": "a559bda4-b792-49b2-d593-316b661b5cf7"
   },
   "outputs": [],
   "source": [
    "!pip install gensim\n"
   ]
  },
  {
   "cell_type": "code",
   "execution_count": 2,
   "metadata": {},
   "outputs": [],
   "source": [
    "import gensim.downloader as api\n",
    "wv = api.load('word2vec-google-news-300')"
   ]
  },
  {
   "cell_type": "code",
   "execution_count": null,
   "metadata": {},
   "outputs": [],
   "source": [
    "vec_king = wv['king']\n",
    "print(vec_king)"
   ]
  },
  {
   "cell_type": "code",
   "execution_count": 6,
   "metadata": {
    "editable": true,
    "slideshow": {
     "slide_type": ""
    },
    "tags": []
   },
   "outputs": [
    {
     "data": {
      "text/plain": [
       "[('queen', 0.7118192911148071)]"
      ]
     },
     "execution_count": 6,
     "metadata": {},
     "output_type": "execute_result"
    }
   ],
   "source": [
    "wv.most_similar(positive=['woman','king'], negative=['man'], topn = 1)"
   ]
  },
  {
   "cell_type": "code",
   "execution_count": 7,
   "metadata": {
    "colab": {
     "base_uri": "https://localhost:8080/"
    },
    "id": "xCThGQsJGvFl",
    "outputId": "6762e08d-9bad-4dd4-e8fa-5c0261c5c795"
   },
   "outputs": [
    {
     "data": {
      "text/plain": [
       "[('good', 0.7190051674842834),\n",
       " ('terrible', 0.6828611493110657),\n",
       " ('horrible', 0.6702598929405212),\n",
       " ('Bad', 0.6698920130729675),\n",
       " ('lousy', 0.6647640466690063),\n",
       " ('crummy', 0.567781925201416),\n",
       " ('horrid', 0.5651682615280151),\n",
       " ('awful', 0.5527253150939941),\n",
       " ('dreadful', 0.5526429414749146),\n",
       " ('horrendous', 0.5445998311042786)]"
      ]
     },
     "execution_count": 7,
     "metadata": {},
     "output_type": "execute_result"
    }
   ],
   "source": [
    "wv.most_similar(\"bad\")"
   ]
  },
  {
   "cell_type": "code",
   "execution_count": 8,
   "metadata": {
    "colab": {
     "base_uri": "https://localhost:8080/"
    },
    "id": "o_ngfoZAM5pi",
    "outputId": "29ccd424-a4a6-416e-d47a-5c8bf901ed04"
   },
   "outputs": [
    {
     "data": {
      "text/plain": [
       "0.70098954"
      ]
     },
     "execution_count": 8,
     "metadata": {},
     "output_type": "execute_result"
    }
   ],
   "source": [
    "wv.similarity(w1='cheap',w2 = 'inexpensive')"
   ]
  },
  {
   "cell_type": "code",
   "execution_count": 9,
   "metadata": {
    "colab": {
     "base_uri": "https://localhost:8080/"
    },
    "id": "SzqoQhgCNIXG",
    "outputId": "ae30e212-0305-495a-aa38-4e1cbd596179"
   },
   "outputs": [
    {
     "name": "stdout",
     "output_type": "stream",
     "text": [
      "shape of the word embedding matrix is (3000000, 300)\n"
     ]
    }
   ],
   "source": [
    "matrix = wv.vectors # extract the word embedding matrix\n",
    "\n",
    "print(f\"shape of the word embedding matrix is {matrix.shape}\")"
   ]
  },
  {
   "cell_type": "code",
   "execution_count": null,
   "metadata": {},
   "outputs": [],
   "source": []
  }
 ],
 "metadata": {
  "accelerator": "GPU",
  "colab": {
   "provenance": []
  },
  "gpuClass": "standard",
  "kernelspec": {
   "display_name": "Python 3 (ipykernel)",
   "language": "python",
   "name": "python3"
  },
  "language_info": {
   "codemirror_mode": {
    "name": "ipython",
    "version": 3
   },
   "file_extension": ".py",
   "mimetype": "text/x-python",
   "name": "python",
   "nbconvert_exporter": "python",
   "pygments_lexer": "ipython3",
   "version": "3.11.11"
  }
 },
 "nbformat": 4,
 "nbformat_minor": 4
}
