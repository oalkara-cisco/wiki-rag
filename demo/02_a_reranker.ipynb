{
 "cells": [
  {
   "cell_type": "markdown",
   "id": "56dfcc5c-d20a-4d84-a57a-33db5e29e6de",
   "metadata": {
    "editable": true,
    "slideshow": {
     "slide_type": ""
    },
    "tags": []
   },
   "source": [
    "## Reranker\n",
    "\n",
    "* Rerank the search documents to pick most relevant chunks\n"
   ]
  },
  {
   "cell_type": "code",
   "execution_count": 30,
   "id": "50c40de6-06fa-430b-9fcf-1343428bbdb6",
   "metadata": {
    "editable": true,
    "slideshow": {
     "slide_type": ""
    },
    "tags": []
   },
   "outputs": [
    {
     "data": {
      "text/markdown": [
       "# Before ranking"
      ],
      "text/plain": [
       "<IPython.core.display.Markdown object>"
      ]
     },
     "metadata": {},
     "output_type": "display_data"
    },
    {
     "data": {
      "text/markdown": [
       "### 0\n",
       "\n",
       "BlockChain Technology \n",
       "Beyond Bitcoin \n",
       " \n",
       "Abstract \n",
       " \n",
       "A blockchain is essentially a distributed database of records or public ledger of all transactions or                               \n",
       "digital events that have been executed and shared among participating parties. Each transaction in                           \n",
       "the public ledger is verified by consensus of a majority of the participants in the system. And, once                                   \n",
       "entered, information can never be erased. The blockchain contains a certain and verifiable recordof"
      ],
      "text/plain": [
       "<IPython.core.display.Markdown object>"
      ]
     },
     "metadata": {},
     "output_type": "display_data"
    },
    {
     "data": {
      "text/markdown": [
       "### 1\n",
       "\n",
       "3 \n",
       "Sutardja Center for Entrepreneurship & Technology Technical Report \n",
       " \n",
       " \n",
       " \n",
       "Introduction \n",
       " \n",
       "A blockchain is essentially a distributed database of records or public ledger of all transactions or \n",
       "digital events that have been executed and shared among participating parties. Each transaction in the \n",
       "public ledger is verified by consensus of a majority of the participants in the system. And, once entered, \n",
       "information can never be erased. The blockchain contains a certain and verifiable record of every"
      ],
      "text/plain": [
       "<IPython.core.display.Markdown object>"
      ]
     },
     "metadata": {},
     "output_type": "display_data"
    },
    {
     "data": {
      "text/markdown": [
       "### 2\n",
       "\n",
       "assets. The fact remains that these third party sources can be hacked, manipulated or compromised. \n",
       " \n",
       "This is where the blockchain technology comes handy. It has the potential to revolutionize the digital \n",
       "world by enabling ​a distributed consensus​ where each and every online transaction, past and \n",
       "present, involving digital assets can be verified at any time in the future. It does this without \n",
       "compromising the privacy of the digital assets and parties involved. The ​distributed consensus​ and \n",
       "anonymity​ are two important characteristics of blockchain technology. \n",
       " \n",
       "3"
      ],
      "text/plain": [
       "<IPython.core.display.Markdown object>"
      ]
     },
     "metadata": {},
     "output_type": "display_data"
    },
    {
     "data": {
      "text/markdown": [
       "### 3\n",
       "\n",
       "driven database is replicated on multiple computers across many jurisdictions. Additions \n",
       "are made by these same computers, which need share neither an affiliation nor any \n",
       "modicum of trust for the updates to remain secure. These features are widely \n",
       "considered to be a breakthrough in computer science.  \n",
       "As the success of Bitcoin has demonstrated, blockchain technology is useful for projects \n",
       "that require real-time collaboration between mutually-suspicious contributors over the \n",
       "Internet. However, the technology is far from mature.  Further development—especially"
      ],
      "text/plain": [
       "<IPython.core.display.Markdown object>"
      ]
     },
     "metadata": {},
     "output_type": "display_data"
    },
    {
     "data": {
      "text/markdown": [
       "### 4\n",
       "\n",
       "of Bitcoin’s architecture, a structure called a “blockchain,” is now the basis of proposed \n",
       "applications in nearly every sector. Like Bitcoin, these applications are being designed \n",
       "to remove rent-seeking corporations from digital processes while giving users more \n",
       "control over their data. \n",
       "Blockchains borrow from research into distributed systems, cryptography, computer \n",
       "security, and game theory, to deliver a new type of shared database. A blockchain-\n",
       "driven database is replicated on multiple computers across many jurisdictions. Additions"
      ],
      "text/plain": [
       "<IPython.core.display.Markdown object>"
      ]
     },
     "metadata": {},
     "output_type": "display_data"
    },
    {
     "data": {
      "text/markdown": [
       "### 5\n",
       "\n",
       "22 \n",
       "Sutardja Center for Entrepreneurship & Technology Technical Report \n",
       " \n",
       " \n",
       " \n",
       " \n",
       "Section VI: Conclusions \n",
       " \n",
       "To conclude, Blockchain is the technology backbone of Bitcoin.  The distributed \n",
       "ledger functionality coupled with security of BlockChain, makes it very attractive \n",
       "technology to solve the current Financial as well as non-financial business problems.  \n",
       " \n",
       "As far as the technology is concerned, the cryptocurrency based tech is either in the \n",
       "downward slope of inflated expectations or in trough of disillusionment as shown in \n",
       "Figure 8 below."
      ],
      "text/plain": [
       "<IPython.core.display.Markdown object>"
      ]
     },
     "metadata": {},
     "output_type": "display_data"
    },
    {
     "data": {
      "text/markdown": [
       "### 6\n",
       "\n",
       "innovation in the blockchain space is an undeniable contradiction: though the impulse to \n",
       "compete is at its peak, so too is the need for collaboration. \n",
       "Blockchain technology is poised to change nearly every facet of our digital lives, from \n",
       "the way we send money to the way we heat our homes. By obviating third parties, \n",
       "blockchains promise to make our systems more efficient. By circumventing censorship, \n",
       "they promise to make our systems more equitable. And if properly implemented, they \n",
       "could make our systems more reliable and secure."
      ],
      "text/plain": [
       "<IPython.core.display.Markdown object>"
      ]
     },
     "metadata": {},
     "output_type": "display_data"
    },
    {
     "data": {
      "text/markdown": [
       "### 7\n",
       "\n",
       "This white paper describes blockchain technology and some compelling specific applications in both                         \n",
       "financial and non­financial sector. We then look at the challengesaheadandbusinessopportunities                           \n",
       "in this fundamental technology that is all set to revolutionize our digital world."
      ],
      "text/plain": [
       "<IPython.core.display.Markdown object>"
      ]
     },
     "metadata": {},
     "output_type": "display_data"
    },
    {
     "data": {
      "text/markdown": [
       "### 8\n",
       "\n",
       "9 \n",
       "Sutardja Center for Entrepreneurship & Technology Technical Report \n",
       " \n",
       " \n",
       "Figure 4. Generation of  Blockchain from unordered transactions. \n",
       "The Bitcoin solved this problem by a mechanism that is now popularly known as \n",
       "Blockchain technology​. The Bitcoin system orders transactions by placing them in groups \n",
       "called blocks and then linking these blocks through what is called Blockchain.  The \n",
       "transactions in one block are considered to have happened at the same time.  These blocks \n",
       "are linked to each-other (like a chain) in a proper linear, chronological order with every"
      ],
      "text/plain": [
       "<IPython.core.display.Markdown object>"
      ]
     },
     "metadata": {},
     "output_type": "display_data"
    },
    {
     "data": {
      "text/markdown": [
       "### 9\n",
       "\n",
       "due to the emergence of blockchain technology.  Blockchain technology has potential to become the \n",
       "new engine of growth in digital economy where we are increasingly using Internet to conduct digital \n",
       "commerce and share our personal data and life events. \n",
       " \n",
       "There are tremendous opportunities in this space and the revolution in this space has just begun. In \n",
       "this report we focus on few key applications of Blockchain technology in the area of Notary, Insurance, \n",
       "private securities and few other interesting non-financial applications. We begin by first describing"
      ],
      "text/plain": [
       "<IPython.core.display.Markdown object>"
      ]
     },
     "metadata": {},
     "output_type": "display_data"
    },
    {
     "data": {
      "text/markdown": [
       "### 10\n",
       "\n",
       "every single transaction ever made. Bitcoin, the decentralized peer­to­peer digital currency, is the                         \n",
       "most popular example that uses blockchain technology. The digital currency bitcoin itself is highly                           \n",
       "controversial but theunderlyingblockchaintechnologyhasworkedflawlesslyandfoundwiderangeof                           \n",
       "applications in both financial and non­financial world.  \n",
       " \n",
       "The main hypothesis is that the blockchain establishes a system of creating a ​distributed"
      ],
      "text/plain": [
       "<IPython.core.display.Markdown object>"
      ]
     },
     "metadata": {},
     "output_type": "display_data"
    },
    {
     "data": {
      "text/markdown": [
       "### 11\n",
       "\n",
       "used to implement decentralized version of Domain Name Server (DNS) that is \n",
       "resilient to censorship. Current DNS servers are controlled by governments and \n",
       "large corporations, and could abuse their power  to censor, hijack, or spy on your \n",
       "Internet usage. Use of Blockchain technology means since DNS or phonebook of the \n",
       "Internet is maintained in a decentralized manner and every user can have the same \n",
       "phone book data on their computer. \n",
       "  \n",
       "Public Key Infrastructure (PKI) technology is widely used for centralized distribution"
      ],
      "text/plain": [
       "<IPython.core.display.Markdown object>"
      ]
     },
     "metadata": {},
     "output_type": "display_data"
    },
    {
     "data": {
      "text/markdown": [
       "### 12\n",
       "\n",
       "Blockchain technology is finding applications in both financial and non-financial areas that \n",
       "traditionally relied on a third trusted online entity to validate and safeguard online transactions \n",
       "of digital assets.  There was another application “Smart Contracts” that was invented in year \n",
       "1994 by Nick Szabo.  It was a great idea to automatically execute contracts between participating \n",
       "parties. However, it did not find usage until the notion of crypto currencies or programmable \n",
       "4 http://www.imponderablethings.com/2013/07/how-bitcoin-works-under-hood.html \n",
       "11"
      ],
      "text/plain": [
       "<IPython.core.display.Markdown object>"
      ]
     },
     "metadata": {},
     "output_type": "display_data"
    },
    {
     "data": {
      "text/markdown": [
       "### 13\n",
       "\n",
       "20 \n",
       "Sutardja Center for Entrepreneurship & Technology Technical Report \n",
       " \n",
       " \n",
       "Fraudulent Activities:   Given the pseudonymous nature of BlockChain transactions, \n",
       "coupled with ease of moving valuables, the bad guys may misuse this for fraudulent \n",
       "activities like money trafficking.  That said, with enough regulations and technology \n",
       "support law enforcement agencies will be able to monitor and prosecute them.  \n",
       " \n",
       "Quantum Computing : The basis of BlockChain technology relies on the very fact that 8\n",
       "it is mathematically impossible for a single party to game the system due to lack of"
      ],
      "text/plain": [
       "<IPython.core.display.Markdown object>"
      ]
     },
     "metadata": {},
     "output_type": "display_data"
    },
    {
     "data": {
      "text/markdown": [
       "### 14\n",
       "\n",
       "3.FUTURE APPLICATIONS  \n",
       "Blockchain-based applications benefit from several unique features that are not found in \n",
       "applications built with standard databases. Most of these features can be summarized \n",
       "in the following statement: it does not matter who runs a blockchain because so single \n",
       "entity “owns” it. What this means functionally is that data and programs stored on a \n",
       "blockchain will be safe against removal, and will perform accurately (as written), \n",
       "regardless of who is doing the work of adding new entries and archiving past ones. This"
      ],
      "text/plain": [
       "<IPython.core.display.Markdown object>"
      ]
     },
     "metadata": {},
     "output_type": "display_data"
    },
    {
     "data": {
      "text/markdown": [
       "# After ranking"
      ],
      "text/plain": [
       "<IPython.core.display.Markdown object>"
      ]
     },
     "metadata": {},
     "output_type": "display_data"
    },
    {
     "data": {
      "text/markdown": [
       "\n",
       "\n",
       "## 0\n",
       "\n",
       "BlockChain Technology \n",
       "Beyond Bitcoin \n",
       " \n",
       "Abstract \n",
       " \n",
       "A blockchain is essentially a distributed database of records or public ledger of all transactions or                               \n",
       "digital events that have been executed and shared among participating parties. Each transaction in                           \n",
       "the public ledger is verified by consensus of a majority of the participants in the system. And, once                                   \n",
       "entered, information can never be erased. The blockchain contains a certain and verifiable recordof\n",
       "\n",
       "## 12\n",
       "\n",
       "Blockchain technology is finding applications in both financial and non-financial areas that \n",
       "traditionally relied on a third trusted online entity to validate and safeguard online transactions \n",
       "of digital assets.  There was another application “Smart Contracts” that was invented in year \n",
       "1994 by Nick Szabo.  It was a great idea to automatically execute contracts between participating \n",
       "parties. However, it did not find usage until the notion of crypto currencies or programmable \n",
       "4 http://www.imponderablethings.com/2013/07/how-bitcoin-works-under-hood.html \n",
       "11\n",
       "\n",
       "## 1\n",
       "\n",
       "3 \n",
       "Sutardja Center for Entrepreneurship & Technology Technical Report \n",
       " \n",
       " \n",
       " \n",
       "Introduction \n",
       " \n",
       "A blockchain is essentially a distributed database of records or public ledger of all transactions or \n",
       "digital events that have been executed and shared among participating parties. Each transaction in the \n",
       "public ledger is verified by consensus of a majority of the participants in the system. And, once entered, \n",
       "information can never be erased. The blockchain contains a certain and verifiable record of every\n",
       "\n",
       "## 5\n",
       "\n",
       "22 \n",
       "Sutardja Center for Entrepreneurship & Technology Technical Report \n",
       " \n",
       " \n",
       " \n",
       " \n",
       "Section VI: Conclusions \n",
       " \n",
       "To conclude, Blockchain is the technology backbone of Bitcoin.  The distributed \n",
       "ledger functionality coupled with security of BlockChain, makes it very attractive \n",
       "technology to solve the current Financial as well as non-financial business problems.  \n",
       " \n",
       "As far as the technology is concerned, the cryptocurrency based tech is either in the \n",
       "downward slope of inflated expectations or in trough of disillusionment as shown in \n",
       "Figure 8 below.\n",
       "\n",
       "## 6\n",
       "\n",
       "innovation in the blockchain space is an undeniable contradiction: though the impulse to \n",
       "compete is at its peak, so too is the need for collaboration. \n",
       "Blockchain technology is poised to change nearly every facet of our digital lives, from \n",
       "the way we send money to the way we heat our homes. By obviating third parties, \n",
       "blockchains promise to make our systems more efficient. By circumventing censorship, \n",
       "they promise to make our systems more equitable. And if properly implemented, they \n",
       "could make our systems more reliable and secure."
      ],
      "text/plain": [
       "<IPython.core.display.Markdown object>"
      ]
     },
     "metadata": {},
     "output_type": "display_data"
    }
   ],
   "source": [
    "from sentence_transformers import CrossEncoder\n",
    "\n",
    "import boto3\n",
    "import chromadb\n",
    "from charset_normalizer.cli import query_yes_no\n",
    "from chromadb.utils.embedding_functions.amazon_bedrock_embedding_function import AmazonBedrockEmbeddingFunction\n",
    "from langchain_chroma import Chroma\n",
    "from langchain_community.embeddings import BedrockEmbeddings\n",
    "\n",
    "from IPython.display import display, Markdown\n",
    "\n",
    "def re_rank_cross_encoders(query, documents):\n",
    "    \n",
    "    relevant_text = \"\"\n",
    "    relevant_text_ids = []\n",
    "\n",
    "    encoder_model = CrossEncoder(\"cross-encoder/ms-marco-MiniLM-L-6-v2\")\n",
    "    ranks = encoder_model.rank(query, documents, top_k=5)\n",
    "\n",
    "    for rank in ranks:\n",
    "        relevant_text += f\"\\n\\n\" + '## ' + f'{rank[\"corpus_id\"]}' + \"\\n\\n\"\n",
    "        relevant_text += documents[rank[\"corpus_id\"]]\n",
    "        relevant_text_ids.append(rank[\"corpus_id\"])\n",
    "\n",
    "    return relevant_text, relevant_text_ids\n",
    "    \n",
    "\n",
    "def similarity_search(query):\n",
    "\n",
    "    session = boto3.Session(profile_name='tap_dev')\n",
    "\n",
    "    # Create a bedrock runtime client in us-east-1\n",
    "    bedrock_rt = session.client(\"bedrock-runtime\",\n",
    "                                region_name=\"us-east-1\"\n",
    "                                )\n",
    "\n",
    "    embedding_model_id = \"amazon.titan-embed-text-v2:0\"\n",
    "    embeddings = BedrockEmbeddings(client=bedrock_rt, model_id=embedding_model_id)\n",
    "\n",
    "    chroma_client = chromadb.PersistentClient(path=\"./brew-rag-bedrock\")\n",
    "    \n",
    "    collection = chroma_client.get_or_create_collection(\n",
    "                    name=\"rag_app\",\n",
    "                    embedding_function=AmazonBedrockEmbeddingFunction(\n",
    "                    model_name=embedding_model_id,\n",
    "                    session=session\n",
    "                ),\n",
    "                metadata={\"hnsw:space\": \"cosine\"})\n",
    "\n",
    "    results = collection.query(query_texts=[query], n_results=15)\n",
    "    context = results.get(\"documents\")[0]\n",
    "    relevant_text, relevant_text_ids = re_rank_cross_encoders(query, context)\n",
    "\n",
    "    display(Markdown(\"# Before ranking\"))\n",
    "    \n",
    "    for idx, docs in enumerate(context):\n",
    "        display(Markdown(f\"### {idx}\\n\\n{docs}\"))\n",
    "        \n",
    "    display(Markdown(\"# After ranking\"))\n",
    "    display(Markdown(relevant_text))\n",
    "\n",
    "\n",
    "if __name__ == '__main__':\n",
    "\n",
    "    query = \"Explain the blockchain technology\"\n",
    "    similarity_search(query)\n"
   ]
  },
  {
   "cell_type": "code",
   "execution_count": null,
   "id": "fca1d687-63d8-426b-be3a-d4c740302fdc",
   "metadata": {},
   "outputs": [],
   "source": []
  }
 ],
 "metadata": {
  "kernelspec": {
   "display_name": "Python 3 (ipykernel)",
   "language": "python",
   "name": "python3"
  },
  "language_info": {
   "codemirror_mode": {
    "name": "ipython",
    "version": 3
   },
   "file_extension": ".py",
   "mimetype": "text/x-python",
   "name": "python",
   "nbconvert_exporter": "python",
   "pygments_lexer": "ipython3",
   "version": "3.11.11"
  }
 },
 "nbformat": 4,
 "nbformat_minor": 5
}
