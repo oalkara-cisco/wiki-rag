{
 "cells": [
  {
   "cell_type": "markdown",
   "id": "283b4726-a2f7-4870-8048-085363000fab",
   "metadata": {},
   "source": [
    "## Some high level guidance on how to scrape README.md and other Markdown files"
   ]
  },
  {
   "cell_type": "code",
   "execution_count": null,
   "id": "b4f97fb3-3e3f-472b-af65-8d3ebf4eea21",
   "metadata": {},
   "outputs": [],
   "source": [
    "#!/bin/bash\n",
    "\n",
    "# Search entire Github org for README.md files\n",
    "GH_HOST=github.office.opendns.com gh search code --owner ResearchEngineering  --filename README.md --limit 1000 > /var/tmp/files-reseng.txt\n",
    "GH_HOST=github.office.opendns.com gh search code --owner Investigate --filename README.md --limit 1000 > /var/tmp/files.txt\n",
    "\n",
    "\n",
    "# Download file from github\n",
    "GH_HOST=github.office.opendns.com   gh api -H 'Accept: application/vnd.github.v3.raw' repos/Investigate/investigate-splunk-app/contents/CHANGELOG.md > ./CHANGELOG.md\n",
    "\n",
    "# Use pandoc to convert markdown to PDF\n",
    "pandoc data-generation-jobs.md  -o github_office_opendns_com_ssitar_story_time_data-generation-jobs_md.pdf\n"
   ]
  }
 ],
 "metadata": {
  "kernelspec": {
   "display_name": "Python 3 (ipykernel)",
   "language": "python",
   "name": "python3"
  },
  "language_info": {
   "codemirror_mode": {
    "name": "ipython",
    "version": 3
   },
   "file_extension": ".py",
   "mimetype": "text/x-python",
   "name": "python",
   "nbconvert_exporter": "python",
   "pygments_lexer": "ipython3",
   "version": "3.11.11"
  }
 },
 "nbformat": 4,
 "nbformat_minor": 5
}
