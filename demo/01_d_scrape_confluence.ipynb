{
 "cells": [
  {
   "cell_type": "markdown",
   "id": "840b577a-ba69-47d3-88ba-9184a9af3692",
   "metadata": {},
   "source": [
    "## How to scrape confluence\n"
   ]
  },
  {
   "cell_type": "code",
   "execution_count": null,
   "id": "4584be96-60e0-4de9-b69d-0be574c7ac1a",
   "metadata": {},
   "outputs": [],
   "source": [
    "!uv pip install atlassian-python-api"
   ]
  },
  {
   "cell_type": "code",
   "execution_count": null,
   "id": "0aeb38d1-dd83-4adb-b3bf-d66af10e688e",
   "metadata": {
    "editable": true,
    "slideshow": {
     "slide_type": ""
    },
    "tags": []
   },
   "outputs": [],
   "source": [
    "from atlassian import Confluence\n",
    "import json\n",
    "import sys, time\n",
    "import re\n",
    "\n",
    "confluence_umbrella = Confluence(\n",
    "    url='https://confluence-eng-rtp2.cisco.com/conf/',\n",
    "    token=\"____\",\n",
    "    backoff_and_retry=True\n",
    "    )\n",
    "\n",
    "confluence_rtp = Confluence(\n",
    "    url='https://confluence.it.umbrella.com/',\n",
    "    token=\"____\",\n",
    "    backoff_and_retry=True\n",
    "    )\n",
    "\n",
    "confluence = confluence_rtp\n",
    "\n",
    "# To scrape an entire subtree in confluence, you need to get the page ID of the\n",
    "# top level page. You can get Page ID of any page from the URL that shows up \n",
    "# after clicking on the \"page information\" from the 3 dots menu on the upper \n",
    "# right corner\n",
    "res = confluence.cql('ancestor=31392960', limit=1000)\n",
    "\n",
    "def save_file(outfile, content):\n",
    "    \"\"\"\n",
    "    # A function to create pdf from byte-stream response\n",
    "    :param outfile:\n",
    "    :param content:\n",
    "    :return:\n",
    "    \"\"\"\n",
    "    file_pdf = open(outfile, 'wb')\n",
    "    file_pdf.write(content)\n",
    "    file_pdf.close()\n",
    "    print(\"Completed\")\n",
    "\n",
    "def replace_special_chars(text):\n",
    "    \"\"\"\n",
    "    Replaces special characters with underscores using regex.\n",
    "    \"\"\"\n",
    "    return re.sub(r'[^a-zA-Z0-9_.]', '_', text)  # Keep only alphanumeric and underscore\n",
    "\n",
    "if __name__ == '__main__':\n",
    "    \n",
    "    results = res.get('results')\n",
    "    \n",
    "    for page in results:\n",
    "        \n",
    "        #Get your confluence page as byte-stream\n",
    "        page_id = page['content']['id']\n",
    "        page_title = page['content']['title']\n",
    "\n",
    "        # remove/replace spl characters in the filename\n",
    "        file_name = replace_special_chars(f\"umbrella_{page['content']['title']}_{page['content']['id']}.pdf\")\n",
    "        \n",
    "        # Call function that will create pdf\n",
    "        response = confluence.get_page_as_pdf(page['content']['id'])\n",
    "        \n",
    "        print(f\"writing file {file_name}\")\n",
    "        \n",
    "        # save file using byte-stream response you received above.\n",
    "        save_file(file_name, content=response)\n",
    "        \n",
    "        # avoid throttleing if any.\n",
    "        time.sleep(5)\n"
   ]
  }
 ],
 "metadata": {
  "kernelspec": {
   "display_name": "Python 3 (ipykernel)",
   "language": "python",
   "name": "python3"
  },
  "language_info": {
   "codemirror_mode": {
    "name": "ipython",
    "version": 3
   },
   "file_extension": ".py",
   "mimetype": "text/x-python",
   "name": "python",
   "nbconvert_exporter": "python",
   "pygments_lexer": "ipython3",
   "version": "3.11.11"
  }
 },
 "nbformat": 4,
 "nbformat_minor": 5
}
