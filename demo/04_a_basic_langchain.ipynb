{
 "cells": [
  {
   "cell_type": "markdown",
   "id": "8e3ab854-03e8-42d3-a068-9b2c1d5911db",
   "metadata": {},
   "source": [
    "### Basic Langchain\n",
    "\n",
    " Initialize you AWS credentials and set the profile name as `tap_dev`"
   ]
  },
  {
   "cell_type": "code",
   "execution_count": null,
   "id": "ab3a9bc7-7752-40b4-b9ff-e6cff971c654",
   "metadata": {},
   "outputs": [],
   "source": [
    "from langchain_aws import BedrockLLM\n",
    "from IPython.display import display, Markdown\n",
    "\n",
    "llm = BedrockLLM(\n",
    "    credentials_profile_name=\"tap_dev\",\n",
    "    model_id=\"us.meta.llama3-2-3b-instruct-v1:0\",\n",
    "    region_name=\"us-east-1\"\n",
    ")\n",
    "\n",
    "display(Markdown(llm.invoke(input=\"What are the top earthquake zones in the world?\")))"
   ]
  },
  {
   "cell_type": "code",
   "execution_count": null,
   "id": "c36ce680-09f8-43c8-b8c8-89e5ef58c5c9",
   "metadata": {},
   "outputs": [],
   "source": [
    "from IPython.display import display, Markdown\n",
    "from langchain_core.prompts import ChatPromptTemplate\n",
    "\n",
    "chat_prompt = ChatPromptTemplate.from_messages([\n",
    "    (\"system\", \"You are a world class comedian.\"),\n",
    "    (\"human\", \"Tell me a joke about {topic}\")\n",
    "])\n",
    "\n",
    "chain = chat_prompt | llm\n",
    "display(chain)\n",
    "\n",
    "display(Markdown(chain.invoke({\"topic\":\"Computer networks\"})))"
   ]
  },
  {
   "cell_type": "code",
   "execution_count": null,
   "id": "44893e09-3238-474c-9da9-2649e930d948",
   "metadata": {},
   "outputs": [],
   "source": []
  }
 ],
 "metadata": {
  "kernelspec": {
   "display_name": "Python 3 (ipykernel)",
   "language": "python",
   "name": "python3"
  },
  "language_info": {
   "codemirror_mode": {
    "name": "ipython",
    "version": 3
   },
   "file_extension": ".py",
   "mimetype": "text/x-python",
   "name": "python",
   "nbconvert_exporter": "python",
   "pygments_lexer": "ipython3",
   "version": "3.11.11"
  }
 },
 "nbformat": 4,
 "nbformat_minor": 5
}
